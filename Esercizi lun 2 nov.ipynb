{
 "metadata": {
  "name": "",
  "signature": "sha256:218c7d31a3d1d45563125894e603827baf44821310373e082609c7541aecb740"
 },
 "nbformat": 3,
 "nbformat_minor": 0,
 "worksheets": [
  {
   "cells": [
    {
     "cell_type": "markdown",
     "metadata": {},
     "source": [
      "#Esercizio 1"
     ]
    },
    {
     "cell_type": "code",
     "collapsed": false,
     "input": [
      "function f1(arr){\n",
      "    var tot = 0;\n",
      "    for(i=0;i<arr.length;i++)\n",
      "    {\n",
      "        if(arr[i]>=0)\n",
      "            tot += arr[i];\n",
      "        else\n",
      "            return tot;\n",
      "    }\n",
      "    return tot;\n",
      "}"
     ],
     "language": "python",
     "metadata": {},
     "outputs": [
      {
       "metadata": {},
       "output_type": "pyout",
       "prompt_number": 1,
       "text": [
        "undefined"
       ]
      }
     ],
     "prompt_number": 1
    },
    {
     "cell_type": "code",
     "collapsed": false,
     "input": [
      "var cose = [1,3,2,-1,145];\n",
      "f1(cose);"
     ],
     "language": "python",
     "metadata": {},
     "outputs": [
      {
       "metadata": {},
       "output_type": "pyout",
       "prompt_number": 2,
       "text": [
        "6"
       ]
      }
     ],
     "prompt_number": 2
    },
    {
     "cell_type": "code",
     "collapsed": false,
     "input": [
      "function f1r(arr){\n",
      "    if(arr.length==0)\n",
      "        return 0;\n",
      "    else\n",
      "    {\n",
      "        if(arr[0]>=0)\n",
      "            return arr[0] + f1r(arr.slice(1));\n",
      "        else\n",
      "            return 0;\n",
      "    }\n",
      "}"
     ],
     "language": "python",
     "metadata": {},
     "outputs": [
      {
       "metadata": {},
       "output_type": "pyout",
       "prompt_number": 3,
       "text": [
        "undefined"
       ]
      }
     ],
     "prompt_number": 3
    },
    {
     "cell_type": "code",
     "collapsed": false,
     "input": [
      "f1r(cose);"
     ],
     "language": "python",
     "metadata": {},
     "outputs": [
      {
       "metadata": {},
       "output_type": "pyout",
       "prompt_number": 4,
       "text": [
        "6"
       ]
      }
     ],
     "prompt_number": 4
    },
    {
     "cell_type": "markdown",
     "metadata": {},
     "source": [
      "#Esercizio 2"
     ]
    },
    {
     "cell_type": "code",
     "collapsed": false,
     "input": [
      "function f2(n)\n",
      "{\n",
      "    tot = 0;\n",
      "    for(i=1; i<=n; i++)\n",
      "    {\n",
      "        tot+= 2*i-1;\n",
      "    }\n",
      "    return tot;\n",
      "}"
     ],
     "language": "python",
     "metadata": {},
     "outputs": [
      {
       "metadata": {},
       "output_type": "pyout",
       "prompt_number": 1,
       "text": [
        "undefined"
       ]
      }
     ],
     "prompt_number": 1
    },
    {
     "cell_type": "code",
     "collapsed": false,
     "input": [
      "f2(4);"
     ],
     "language": "python",
     "metadata": {},
     "outputs": [
      {
       "metadata": {},
       "output_type": "pyout",
       "prompt_number": 2,
       "text": [
        "16"
       ]
      }
     ],
     "prompt_number": 2
    },
    {
     "cell_type": "code",
     "collapsed": false,
     "input": [
      "function f2r(n)\n",
      "{\n",
      "    if(n==0)\n",
      "        return 0;\n",
      "    else\n",
      "        return n*2-1 + f2r(n-1);\n",
      "}"
     ],
     "language": "python",
     "metadata": {},
     "outputs": [
      {
       "metadata": {},
       "output_type": "pyout",
       "prompt_number": 9,
       "text": [
        "undefined"
       ]
      }
     ],
     "prompt_number": 9
    },
    {
     "cell_type": "code",
     "collapsed": false,
     "input": [
      "f2r(3);"
     ],
     "language": "python",
     "metadata": {},
     "outputs": [
      {
       "metadata": {},
       "output_type": "pyout",
       "prompt_number": 10,
       "text": [
        "9"
       ]
      }
     ],
     "prompt_number": 10
    },
    {
     "cell_type": "markdown",
     "metadata": {},
     "source": [
      "#Esercizio 3"
     ]
    },
    {
     "cell_type": "code",
     "collapsed": false,
     "input": [
      "function f3(arr) //aggiungere controllo 10 elementi se necessario\n",
      "{\n",
      "    var sum = 0;\n",
      "    for(i=0; i<10; i++)\n",
      "        sum += arr[i];\n",
      "\n",
      "    return sum/arr.length;\n",
      "}"
     ],
     "language": "python",
     "metadata": {},
     "outputs": [
      {
       "metadata": {},
       "output_type": "pyout",
       "prompt_number": 14,
       "text": [
        "undefined"
       ]
      }
     ],
     "prompt_number": 14
    },
    {
     "cell_type": "code",
     "collapsed": false,
     "input": [
      "var cose2 = [2,4,3,5,1,2,4,2,4,3]; //media = 3\n",
      "f3(cose2);"
     ],
     "language": "python",
     "metadata": {},
     "outputs": [
      {
       "metadata": {},
       "output_type": "pyout",
       "prompt_number": 16,
       "text": [
        "3"
       ]
      }
     ],
     "prompt_number": 16
    },
    {
     "cell_type": "code",
     "collapsed": false,
     "input": [
      "function f3r(arr) //?\n",
      "{\n",
      "    if(arr.length == 0)\n",
      "        return 0;\n",
      "    else\n",
      "        return arr[0]/10 + f3r(arr.slice(1));\n",
      "}"
     ],
     "language": "python",
     "metadata": {},
     "outputs": [
      {
       "metadata": {},
       "output_type": "pyout",
       "prompt_number": 19,
       "text": [
        "undefined"
       ]
      }
     ],
     "prompt_number": 19
    },
    {
     "cell_type": "code",
     "collapsed": false,
     "input": [
      "f3r(cose2);"
     ],
     "language": "python",
     "metadata": {},
     "outputs": [
      {
       "metadata": {},
       "output_type": "pyout",
       "prompt_number": 20,
       "text": [
        "2.9999999999999996"
       ]
      }
     ],
     "prompt_number": 20
    },
    {
     "cell_type": "markdown",
     "metadata": {},
     "source": [
      "#Esercizio 4"
     ]
    },
    {
     "cell_type": "code",
     "collapsed": false,
     "input": [
      "function f4(a, b)\n",
      "{\n",
      "    var tot = 0;\n",
      "    if(b<a)\n",
      "    {\n",
      "        for(b; b<=a; b++)\n",
      "            tot += b;\n",
      "    }\n",
      "    else\n",
      "    {\n",
      "        for(a; a<=b; a++)\n",
      "            tot += a;\n",
      "    }\n",
      "    return tot;\n",
      "}"
     ],
     "language": "python",
     "metadata": {},
     "outputs": [
      {
       "metadata": {},
       "output_type": "pyout",
       "prompt_number": 21,
       "text": [
        "undefined"
       ]
      }
     ],
     "prompt_number": 21
    },
    {
     "cell_type": "code",
     "collapsed": false,
     "input": [
      "f4(3,5);"
     ],
     "language": "python",
     "metadata": {},
     "outputs": [
      {
       "metadata": {},
       "output_type": "pyout",
       "prompt_number": 37,
       "text": [
        "12"
       ]
      }
     ],
     "prompt_number": 37
    },
    {
     "cell_type": "code",
     "collapsed": true,
     "input": [
      "function f4r(a, b)\n",
      "{\n",
      "    if(a==b)\n",
      "        return a;\n",
      "    else\n",
      "    {\n",
      "        if(a<b)\n",
      "            return a + f4r(a+1, b);\n",
      "        else\n",
      "            return b + f4r(a, b+1);\n",
      "    }\n",
      "}"
     ],
     "language": "python",
     "metadata": {},
     "outputs": [
      {
       "metadata": {},
       "output_type": "pyout",
       "prompt_number": 39,
       "text": [
        "undefined"
       ]
      }
     ],
     "prompt_number": 39
    },
    {
     "cell_type": "code",
     "collapsed": false,
     "input": [
      "f4r(3,5);"
     ],
     "language": "python",
     "metadata": {},
     "outputs": [
      {
       "metadata": {},
       "output_type": "pyout",
       "prompt_number": 49,
       "text": [
        "12"
       ]
      }
     ],
     "prompt_number": 49
    },
    {
     "cell_type": "markdown",
     "metadata": {},
     "source": [
      "#Esercizio 5"
     ]
    },
    {
     "cell_type": "code",
     "collapsed": false,
     "input": [
      "function f5(a,b)\n",
      "{\n",
      "    var tot = 0;\n",
      "    for(i=0; i<b; i++)\n",
      "        tot += a;\n",
      "    return tot;\n",
      "}"
     ],
     "language": "python",
     "metadata": {},
     "outputs": [
      {
       "metadata": {},
       "output_type": "pyout",
       "prompt_number": 6,
       "text": [
        "undefined"
       ]
      }
     ],
     "prompt_number": 6
    },
    {
     "cell_type": "code",
     "collapsed": false,
     "input": [
      "f5(5,4);"
     ],
     "language": "python",
     "metadata": {},
     "outputs": [
      {
       "metadata": {},
       "output_type": "pyout",
       "prompt_number": 7,
       "text": [
        "20"
       ]
      }
     ],
     "prompt_number": 7
    },
    {
     "cell_type": "code",
     "collapsed": false,
     "input": [
      "function f5r(a,b)\n",
      "{\n",
      "    if(b==0||a==0)\n",
      "        return 0;\n",
      "    else\n",
      "        return a + f5r(a,b-1);\n",
      "}"
     ],
     "language": "python",
     "metadata": {},
     "outputs": [
      {
       "metadata": {},
       "output_type": "pyout",
       "prompt_number": 12,
       "text": [
        "undefined"
       ]
      }
     ],
     "prompt_number": 12
    },
    {
     "cell_type": "code",
     "collapsed": false,
     "input": [
      "f5r(5,4);"
     ],
     "language": "python",
     "metadata": {},
     "outputs": [
      {
       "metadata": {},
       "output_type": "pyout",
       "prompt_number": 13,
       "text": [
        "20"
       ]
      }
     ],
     "prompt_number": 13
    },
    {
     "cell_type": "markdown",
     "metadata": {},
     "source": [
      "#Esercizio 6"
     ]
    },
    {
     "cell_type": "code",
     "collapsed": false,
     "input": [
      "function f6(a,b)\n",
      "{\n",
      "    var tot = 0;\n",
      "    for(i=0; tot<a; i++)\n",
      "    {\n",
      "        tot+=b;\n",
      "    }\n",
      "    lol = [i,a-tot];\n",
      "    return lol;\n",
      "}"
     ],
     "language": "python",
     "metadata": {},
     "outputs": [
      {
       "metadata": {},
       "output_type": "pyout",
       "prompt_number": 14,
       "text": [
        "undefined"
       ]
      }
     ],
     "prompt_number": 14
    },
    {
     "cell_type": "code",
     "collapsed": false,
     "input": [
      "f6(3,2);"
     ],
     "language": "python",
     "metadata": {},
     "outputs": [
      {
       "metadata": {},
       "output_type": "pyout",
       "prompt_number": 15,
       "text": [
        "[ 2, -1 ]"
       ]
      }
     ],
     "prompt_number": 15
    },
    {
     "cell_type": "code",
     "collapsed": false,
     "input": [],
     "language": "python",
     "metadata": {},
     "outputs": [
      {
       "metadata": {},
       "output_type": "pyout",
       "prompt_number": 16,
       "text": [
        "undefined"
       ]
      }
     ],
     "prompt_number": 16
    },
    {
     "cell_type": "code",
     "collapsed": false,
     "input": [],
     "language": "python",
     "metadata": {},
     "outputs": [
      {
       "metadata": {},
       "output_type": "pyout",
       "prompt_number": 17,
       "text": [
        "undefined"
       ]
      }
     ],
     "prompt_number": 17
    },
    {
     "cell_type": "markdown",
     "metadata": {},
     "source": [
      "#Esercizio 7"
     ]
    },
    {
     "cell_type": "code",
     "collapsed": false,
     "input": [
      "function f7(a,b)\n",
      "{\n",
      "    var tot = 1;\n",
      "    for(i=0;i<b;i++)\n",
      "        tot = tot*a//f5(tot,a); non funzia...\n",
      "    return tot;\n",
      "}"
     ],
     "language": "python",
     "metadata": {},
     "outputs": [
      {
       "metadata": {},
       "output_type": "pyout",
       "prompt_number": 10,
       "text": [
        "undefined"
       ]
      }
     ],
     "prompt_number": 10
    },
    {
     "cell_type": "code",
     "collapsed": false,
     "input": [
      "f7(2,3);"
     ],
     "language": "python",
     "metadata": {},
     "outputs": [
      {
       "metadata": {},
       "output_type": "pyout",
       "prompt_number": 11,
       "text": [
        "8"
       ]
      }
     ],
     "prompt_number": 11
    },
    {
     "cell_type": "code",
     "collapsed": false,
     "input": [
      "function f7r(a,b)\n",
      "{\n",
      "    if(b==0)\n",
      "        return 1;\n",
      "    else\n",
      "        return a * f7r(a,b-1);//return f5r(a, f7r(a,b-1));\n",
      "}"
     ],
     "language": "python",
     "metadata": {},
     "outputs": [
      {
       "metadata": {},
       "output_type": "pyout",
       "prompt_number": 18,
       "text": [
        "undefined"
       ]
      }
     ],
     "prompt_number": 18
    },
    {
     "cell_type": "code",
     "collapsed": false,
     "input": [
      "f7r(2,3)"
     ],
     "language": "python",
     "metadata": {},
     "outputs": [
      {
       "metadata": {},
       "output_type": "pyout",
       "prompt_number": 19,
       "text": [
        "8"
       ]
      }
     ],
     "prompt_number": 19
    },
    {
     "cell_type": "markdown",
     "metadata": {},
     "source": [
      "#Esercizio 8"
     ]
    },
    {
     "cell_type": "code",
     "collapsed": false,
     "input": [
      "function f8(arr)\n",
      "{\n",
      "    var mtrx = [];\n",
      "    \n",
      "    if(Math.sqrt(arr.length)%1 == 0)\n",
      "    {\n",
      "        for(i=0;i<Math.sqrt(arr.length);i++)\n",
      "        {\n",
      "            for(j=0;i<Math.sqrt(arr.length);i++)\n",
      "            {\n",
      "                mtrx[i][j]=arr[(Math.sqrt(arr.length)*i)+j];\n",
      "            }\n",
      "        }\n",
      "        return mtrx;\n",
      "    }\n",
      "    else\n",
      "        console.log('Nope');\n",
      "}"
     ],
     "language": "python",
     "metadata": {},
     "outputs": [
      {
       "metadata": {},
       "output_type": "pyout",
       "prompt_number": 9,
       "text": [
        "undefined"
       ]
      }
     ],
     "prompt_number": 9
    },
    {
     "cell_type": "code",
     "collapsed": false,
     "input": [
      "var rarray = [1,2,3,4,5,6,7,8,9];\n",
      "f8(rarray);"
     ],
     "language": "python",
     "metadata": {},
     "outputs": [
      {
       "ename": "TypeError",
       "evalue": "Cannot set property '0' of undefined",
       "output_type": "pyerr",
       "traceback": [
        "TypeError: Cannot set property '0' of undefined",
        "    at f8 (evalmachine.<anonymous>:11:27)",
        "    at evalmachine.<anonymous>:2:1",
        "    at run ([eval]:192:19)",
        "    at onMessage ([eval]:63:41)",
        "    at process.EventEmitter.emit (events.js:98:17)",
        "    at handleMessage (child_process.js:318:10)",
        "    at Pipe.channel.onread (child_process.js:345:11)"
       ]
      }
     ],
     "prompt_number": 12
    },
    {
     "cell_type": "code",
     "collapsed": false,
     "input": [],
     "language": "python",
     "metadata": {},
     "outputs": []
    }
   ],
   "metadata": {}
  }
 ]
}